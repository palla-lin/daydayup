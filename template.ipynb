{
  "nbformat": 4,
  "nbformat_minor": 0,
  "metadata": {
    "colab": {
      "name": "template",
      "provenance": [],
      "toc_visible": true,
      "authorship_tag": "ABX9TyPYLfrTpzuOpBgp+Cq6rAmC"
    },
    "kernelspec": {
      "display_name": "Python 3",
      "name": "python3"
    }
  },
  "cells": [
    {
      "cell_type": "code",
      "metadata": {
        "colab": {
          "base_uri": "https://localhost:8080/"
        },
        "id": "ViveIp6TO6Zu",
        "outputId": "3c209e14-7288-4c79-8496-b08a2f813d1d"
      },
      "source": [
        "from google.colab import drive\n",
        "drive.mount('/content/drive')"
      ],
      "execution_count": null,
      "outputs": [
        {
          "output_type": "stream",
          "text": [
            "Mounted at /content/drive\n"
          ],
          "name": "stdout"
        }
      ]
    },
    {
      "cell_type": "code",
      "metadata": {
        "colab": {
          "base_uri": "https://localhost:8080/"
        },
        "id": "BzeJWUqPbkdN",
        "outputId": "9e0b7a04-6bc1-4caa-9f80-1a3a835a2ff5"
      },
      "source": [
        "# all paths will be defined this cell in advance\r\n",
        "#define your own root psth\r\n",
        "rootpath='/content/drive/My Drive/Colab Notebooks/Transformer/'\r\n",
        "\r\n",
        "paths={\r\n",
        "    'model_image':rootpath+'architecture.PNG',\r\n",
        "    'atten_image':rootpath+'attention.PNG',\r\n",
        "    'input_format':rootpath+'input_format.jpg',\r\n",
        "    'de':rootpath+'data/test2016.de',\r\n",
        "    'en':rootpath+'data/test2016.en'\r\n",
        "}\r\n",
        "\r\n",
        "import os\r\n",
        "for _,path in paths.items():\r\n",
        "  assert os.path.exists(path),'no such file:'+path\r\n",
        "print('All paths are available')\r\n",
        "  \r\n",
        "  "
      ],
      "execution_count": null,
      "outputs": [
        {
          "output_type": "stream",
          "text": [
            "All paths are available\n"
          ],
          "name": "stdout"
        }
      ]
    }
  ]
}